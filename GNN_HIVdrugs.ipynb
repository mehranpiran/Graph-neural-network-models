{
 "cells": [
  {
   "cell_type": "code",
   "execution_count": 154,
   "id": "43b2da8e",
   "metadata": {},
   "outputs": [],
   "source": [
    "import os\n",
    "import numpy as np \n",
    "import pandas as pd\n",
    "from tqdm import tqdm\n",
    "from rdkit import Chem\n",
    "\n",
    "import torch.nn.functional as F \n",
    "from torch.nn import Linear, BatchNorm1d, ModuleList\n",
    "from torch_geometric.nn import TransformerConv, TopKPooling \n",
    "from torch_geometric.nn import global_mean_pool as gap, global_max_pool as gmp\n",
    "\n",
    "import torch\n",
    "import torch_geometric\n",
    "from torch_geometric.data import Dataset, Data , DataLoader\n",
    "from torch_geometric.nn import GATConv\n",
    "import torch.optim as optim\n",
    "\n",
    "from sklearn.metrics import confusion_matrix, f1_score, accuracy_score, precision_score, recall_score\n"
   ]
  },
  {
   "cell_type": "markdown",
   "id": "e4ae38bb-2fdb-4a34-8949-2c90cd941135",
   "metadata": {},
   "source": [
    "## Loading raw data"
   ]
  },
  {
   "cell_type": "code",
   "execution_count": 155,
   "id": "bf862081",
   "metadata": {},
   "outputs": [
    {
     "data": {
      "text/plain": [
       "<bound method NDFrame.head of                                                   smiles activity  HIV_active\n",
       "0      CCC1=[O+][Cu-3]2([O+]=C(CC)C1)[O+]=C(CC)CC(CC)...       CI           0\n",
       "1      C(=Cc1ccccc1)C1=[O+][Cu-3]2([O+]=C(C=Cc3ccccc3...       CI           0\n",
       "2                       CC(=O)N1c2ccccc2Sc2c1ccc1ccccc21       CI           0\n",
       "3        Nc1ccc(C=Cc2ccc(N)cc2S(=O)(=O)O)c(S(=O)(=O)O)c1       CI           0\n",
       "4                                 O=S(=O)(O)CCS(=O)(=O)O       CI           0\n",
       "...                                                  ...      ...         ...\n",
       "41122  CCC1CCC2c3c([nH]c4ccc(C)cc34)C3C(=O)N(N(C)C)C(...       CI           0\n",
       "41123  Cc1ccc2[nH]c3c(c2c1)C1CCC(C(C)(C)C)CC1C1C(=O)N...       CI           0\n",
       "41124  Cc1ccc(N2C(=O)C3c4[nH]c5ccccc5c4C4CCC(C(C)(C)C...       CI           0\n",
       "41125  Cc1cccc(N2C(=O)C3c4[nH]c5ccccc5c4C4CCC(C(C)(C)...       CI           0\n",
       "41126  CCCCCC=C(c1cc(Cl)c(OC)c(-c2nc(C)no2)c1)c1cc(Cl...       CI           0\n",
       "\n",
       "[41127 rows x 3 columns]>"
      ]
     },
     "execution_count": 155,
     "metadata": {},
     "output_type": "execute_result"
    }
   ],
   "source": [
    "Data_Path = \"~/ML/HIV/HIV.csv\"\n",
    "data = pd.read_csv(Data_Path)\n",
    "data.head"
   ]
  },
  {
   "cell_type": "markdown",
   "id": "678139a6-51af-47fb-805d-c17be1ebdf73",
   "metadata": {},
   "source": [
    "## Define MoleculeDataset class"
   ]
  },
  {
   "cell_type": "code",
   "execution_count": 156,
   "id": "a3c20531",
   "metadata": {},
   "outputs": [],
   "source": [
    "\n",
    "class MoleculeDataset(Dataset):\n",
    "    def __init__(self, root, filename, test=False, transform=None, pre_transform=None, data=None):\n",
    "        self.root = os.path.expanduser(root)\n",
    "        self.filename = filename\n",
    "        self.test = test\n",
    "        self.transform = transform\n",
    "        self.pre_transform = pre_transform\n",
    "        self.data = data if data is not None else self.load_data()\n",
    "        self._indices = list(range(len(self.data)))\n",
    "        self.my_processed_dir = os.path.join(self.root, \"processed\")\n",
    "        os.makedirs(self.my_processed_dir, exist_ok=True)\n",
    "\n",
    "        if self.pre_transform:\n",
    "            self.data = self.pre_transform(self.data)\n",
    "    \n",
    "    def load_data(self):\n",
    "        file_path = os.path.join(self.root, self.filename)\n",
    "        return pd.read_csv(file_path)\n",
    "\n",
    "    def process(self, title=\"Processing Data\"):\n",
    "        print(f\"{title} and saving to {self.my_processed_dir}...\")\n",
    "        for index, mol in tqdm(self.data.iterrows(), total=self.data.shape[0], disable=True):\n",
    "            mol_obj = Chem.MolFromSmiles(mol[\"smiles\"])\n",
    "            if mol_obj is None:\n",
    "                continue\n",
    "            data = Data(\n",
    "                x=self._get_node_features(mol_obj),\n",
    "                edge_index=self._get_adjacency_info(mol_obj),\n",
    "                edge_attr=self._get_edge_features(mol_obj),\n",
    "                y=self._get_labels(mol[\"HIV_active\"]),\n",
    "                smiles=mol[\"smiles\"]\n",
    "            )\n",
    "            file_name = f\"data_test_{index}.pt\" if self.test else f\"data_{index}.pt\"\n",
    "            file_path = os.path.join(self.my_processed_dir, file_name)\n",
    "            torch.save(data, file_path)\n",
    "\n",
    "    def _get_node_features(self, mol):\n",
    "        features = [\n",
    "            [atom.GetAtomicNum(), atom.GetDegree(), atom.GetFormalCharge(), \n",
    "             atom.GetHybridization(), atom.GetIsAromatic(), atom.GetTotalNumHs(), \n",
    "             atom.GetNumRadicalElectrons(), atom.IsInRing(), atom.GetChiralTag()]\n",
    "            for atom in mol.GetAtoms()\n",
    "        ]\n",
    "        return torch.tensor(features, dtype=torch.float)\n",
    "\n",
    "    def _get_edge_features(self, mol):\n",
    "        features = []\n",
    "        for bond in mol.GetBonds():\n",
    "            bond_feats = [bond.GetBondTypeAsDouble(), bond.IsInRing()]\n",
    "            features.append(bond_feats)\n",
    "            features.append(bond_feats)  # Add again for the reverse direction\n",
    "        return torch.tensor(features, dtype=torch.float)\n",
    "\n",
    "    def _get_adjacency_info(self, mol):\n",
    "        indices = []\n",
    "        for bond in mol.GetBonds():\n",
    "            i = bond.GetBeginAtomIdx()\n",
    "            j = bond.GetEndAtomIdx()\n",
    "            indices.append([i, j])\n",
    "            indices.append([j, i])  # Add reverse direction\n",
    "\n",
    "        edge_indices = torch.tensor(indices).t().to(torch.long)\n",
    "        return edge_indices\n",
    "\n",
    "    def _get_labels(self, label):\n",
    "        return torch.tensor([label], dtype=torch.int64)\n",
    "\n",
    "    def __len__(self):\n",
    "        return len(self.data)\n",
    "\n",
    "    def get(self, idx):\n",
    "        file_name = f\"data_test_{idx}.pt\" if self.test else f\"data_{idx}.pt\"\n",
    "        file_path = os.path.join(self.my_processed_dir, file_name)\n",
    "        if not os.path.exists(file_path):\n",
    "            raise FileNotFoundError(f\"No such file: '{file_path}'\")\n",
    "        return torch.load(file_path)\n",
    "\n",
    "    def __getitem__(self, idx):\n",
    "        if isinstance(idx, int):\n",
    "            return self.get(idx)\n",
    "        elif isinstance(idx, slice):\n",
    "            indices = range(*idx.indices(len(self)))\n",
    "            data_subset = self.data.iloc[indices].reset_index(drop=True)\n",
    "            return MoleculeDataset(root=self.root, filename=self.filename, test=self.test, transform=self.transform, pre_transform=self.pre_transform, data=data_subset)\n",
    "        else:\n",
    "            raise TypeError(\"Invalid argument type.\")\n",
    "\n",
    "    @property\n",
    "    def num_node_features(self):\n",
    "        sample_data = self[0]\n",
    "        return sample_data.x.shape[1]\n",
    "\n",
    "    @property\n",
    "    def num_classes(self):\n",
    "        return self.data['HIV_active'].nunique()\n",
    "\n",
    "    def shuffle(self):\n",
    "        indices = torch.randperm(len(self.data)).tolist()\n",
    "        self.data = self.data.iloc[indices].reset_index(drop=True)\n",
    "        return self\n"
   ]
  },
  {
   "cell_type": "markdown",
   "id": "ef0f3843-ed31-4579-bff2-e40cc0fde35a",
   "metadata": {},
   "source": [
    "## Preprocessing data"
   ]
  },
  {
   "cell_type": "markdown",
   "id": "a93c077e-d58e-416b-a1ee-bc92e0eb257d",
   "metadata": {},
   "source": [
    "Loads the Data: Reads the raw data from a CSV file.           \n",
    "Converts SMILES Strings: Converts each SMILES string into an RDKit molecule object.          \n",
    "Extracts Features: Extracts node features, edge features, and adjacency information from the molecule.         \n",
    "Creates Data Objects: Creates Data objects containing the extracted features and labels.        \n",
    "Saves Data Objects: Saves each Data object to a file in the specified directory.          "
   ]
  },
  {
   "cell_type": "code",
   "execution_count": 157,
   "id": "1f7c7b23-1fd1-4d4d-b9a2-61e1ec0eb31a",
   "metadata": {},
   "outputs": [
    {
     "data": {
      "text/plain": [
       "MoleculeDataset(41127)"
      ]
     },
     "execution_count": 157,
     "metadata": {},
     "output_type": "execute_result"
    }
   ],
   "source": [
    "dataset = MoleculeDataset(root='~/ML/HIV', filename=\"HIV.csv\")\n",
    "dataset"
   ]
  },
  {
   "cell_type": "code",
   "execution_count": 158,
   "id": "a1228a53",
   "metadata": {},
   "outputs": [
    {
     "name": "stdout",
     "output_type": "stream",
     "text": [
      "tensor([[ 1,  2,  2,  3,  3,  4,  3,  5,  5,  6,  6,  7,  6,  8,  8,  9,  9, 10,\n",
      "         10, 11, 11, 12, 12, 13, 13,  2, 13,  8],\n",
      "        [ 2,  1,  3,  2,  4,  3,  5,  3,  6,  5,  7,  6,  8,  6,  9,  8, 10,  9,\n",
      "         11, 10, 12, 11, 13, 12,  2, 13,  8, 13]])\n",
      "tensor([[17.,  0.,  0.,  4.,  0.,  1.,  0.,  0.,  0.],\n",
      "        [ 6.,  1.,  0.,  4.,  0.,  3.,  0.,  0.,  0.],\n",
      "        [ 7.,  3.,  0.,  3.,  1.,  0.,  0.,  1.,  0.],\n",
      "        [ 6.,  3.,  0.,  3.,  1.,  0.,  0.,  1.,  0.],\n",
      "        [ 7.,  1.,  0.,  3.,  0.,  1.,  0.,  0.,  0.],\n",
      "        [ 7.,  2.,  0.,  3.,  1.,  0.,  0.,  1.,  0.],\n",
      "        [ 7.,  3.,  1.,  3.,  1.,  0.,  0.,  1.,  0.],\n",
      "        [ 8.,  1., -1.,  3.,  0.,  0.,  0.,  0.,  0.],\n",
      "        [ 6.,  3.,  0.,  3.,  1.,  0.,  0.,  1.,  0.],\n",
      "        [ 6.,  2.,  0.,  3.,  1.,  1.,  0.,  1.,  0.],\n",
      "        [ 6.,  2.,  0.,  3.,  1.,  1.,  0.,  1.,  0.],\n",
      "        [ 6.,  2.,  0.,  3.,  1.,  1.,  0.,  1.,  0.],\n",
      "        [ 6.,  2.,  0.,  3.,  1.,  1.,  0.,  1.,  0.],\n",
      "        [ 6.,  3.,  0.,  3.,  1.,  0.,  0.,  1.,  0.]])\n",
      "tensor([[1.0000, 0.0000],\n",
      "        [1.0000, 0.0000],\n",
      "        [1.5000, 1.0000],\n",
      "        [1.5000, 1.0000],\n",
      "        [2.0000, 0.0000],\n",
      "        [2.0000, 0.0000],\n",
      "        [1.5000, 1.0000],\n",
      "        [1.5000, 1.0000],\n",
      "        [1.5000, 1.0000],\n",
      "        [1.5000, 1.0000],\n",
      "        [1.0000, 0.0000],\n",
      "        [1.0000, 0.0000],\n",
      "        [1.5000, 1.0000],\n",
      "        [1.5000, 1.0000],\n",
      "        [1.5000, 1.0000],\n",
      "        [1.5000, 1.0000],\n",
      "        [1.5000, 1.0000],\n",
      "        [1.5000, 1.0000],\n",
      "        [1.5000, 1.0000],\n",
      "        [1.5000, 1.0000],\n",
      "        [1.5000, 1.0000],\n",
      "        [1.5000, 1.0000],\n",
      "        [1.5000, 1.0000],\n",
      "        [1.5000, 1.0000],\n",
      "        [1.5000, 1.0000],\n",
      "        [1.5000, 1.0000],\n",
      "        [1.5000, 1.0000],\n",
      "        [1.5000, 1.0000]])\n",
      "tensor([0])\n"
     ]
    }
   ],
   "source": [
    "print(dataset[0].edge_index)\n",
    "print(dataset[0].x)\n",
    "print(dataset[0].edge_attr)\n",
    "print(dataset[0].y)"
   ]
  },
  {
   "cell_type": "code",
   "execution_count": 159,
   "id": "9310b177-855f-463f-af32-6e98a1fd0fd2",
   "metadata": {
    "scrolled": true
   },
   "outputs": [
    {
     "name": "stdout",
     "output_type": "stream",
     "text": [
      "Processing Data and saving to /home/mpir0002/ML/HIV/processed...\n"
     ]
    },
    {
     "name": "stderr",
     "output_type": "stream",
     "text": [
      "[04:16:47] WARNING: not removing hydrogen atom without neighbors\n",
      "[04:16:47] WARNING: not removing hydrogen atom without neighbors\n"
     ]
    }
   ],
   "source": [
    "dataset.process()  # Ensure the data is processed and saved"
   ]
  },
  {
   "cell_type": "code",
   "execution_count": 160,
   "id": "ca19030f",
   "metadata": {
    "scrolled": true
   },
   "outputs": [
    {
     "name": "stdout",
     "output_type": "stream",
     "text": [
      "41127\n",
      "2\n"
     ]
    }
   ],
   "source": [
    "print(len(dataset))\n",
    "print(dataset.num_classes)"
   ]
  },
  {
   "cell_type": "code",
   "execution_count": 161,
   "id": "0f3da820",
   "metadata": {},
   "outputs": [
    {
     "data": {
      "text/plain": [
       "9"
      ]
     },
     "execution_count": 161,
     "metadata": {},
     "output_type": "execute_result"
    }
   ],
   "source": [
    "dataset.num_node_features"
   ]
  },
  {
   "cell_type": "code",
   "execution_count": 162,
   "id": "d53bb4ee",
   "metadata": {},
   "outputs": [
    {
     "name": "stdout",
     "output_type": "stream",
     "text": [
      "False\n"
     ]
    }
   ],
   "source": [
    "data = dataset[0]\n",
    "print(data.is_directed())"
   ]
  },
  {
   "cell_type": "code",
   "execution_count": 163,
   "id": "b5fe48c5",
   "metadata": {},
   "outputs": [
    {
     "name": "stdout",
     "output_type": "stream",
     "text": [
      "19\n",
      "40\n"
     ]
    }
   ],
   "source": [
    "print(data.num_nodes)\n",
    "print(data.num_edges)"
   ]
  },
  {
   "cell_type": "markdown",
   "id": "9976ab86-703d-4183-b374-fcdd7547fda9",
   "metadata": {},
   "source": [
    "## Configuring model architecture"
   ]
  },
  {
   "cell_type": "code",
   "execution_count": 164,
   "id": "ed8e4a47",
   "metadata": {},
   "outputs": [],
   "source": [
    "\n",
    "class GNN(torch.nn.Module):\n",
    "    def __init__(self, feature_size):\n",
    "        super(GNN, self).__init__()\n",
    "        \n",
    "        num_classes = 2\n",
    "        embedding_size = 1024\n",
    "        \n",
    "        # GNN layers\n",
    "        self.conv1 = GATConv(feature_size , embedding_size , heads=3 , dropout = 0.3)\n",
    "        self.head_transform1 = Linear(embedding_size*3 , embedding_size)\n",
    "        self.pool1 = TopKPooling(embedding_size , ratio = 0.8)\n",
    "        self.conv2 = GATConv(embedding_size , embedding_size , heads=3 , dropout = 0.3)\n",
    "        self.head_transform2 = Linear(embedding_size*3 , embedding_size)\n",
    "        self.pool2 = TopKPooling(embedding_size , ratio = 0.5)\n",
    "        self.conv3 = GATConv(embedding_size , embedding_size , heads=3 , dropout = 0.3)\n",
    "        self.head_transform3 = Linear(embedding_size*3 , embedding_size)\n",
    "        self.pool3 = TopKPooling(embedding_size , ratio = 0.3)\n",
    "        \n",
    "        # Linear layers\n",
    "        self.linear1 = Linear(embedding_size*2 , 1024)\n",
    "        self.linear2 = Linear(1024 , num_classes)\n",
    "        \n",
    "    def forward(self , x , edge_index , batch_index):\n",
    "        \n",
    "        x = self.conv1(x , edge_index)\n",
    "        x = self.head_transform1(x)\n",
    "        x , edge_index , edge_attr , batch_index , _ , _ = self.pool1(x , edge_index, None, batch_index)\n",
    "        x1 = torch.cat([gmp(x , batch_index) , gap(x , batch_index)] , dim = 1)\n",
    "        \n",
    "        x = self.conv2(x , edge_index)\n",
    "        x = self.head_transform2(x)\n",
    "        x , edge_index , edge_attr , batch_index , _ , _ = self.pool2(x , edge_index, None, batch_index)\n",
    "        x2 = torch.cat([gmp(x , batch_index) , gap(x , batch_index)] , dim = 1)\n",
    "        \n",
    "        x = self.conv3(x , edge_index)\n",
    "        x = self.head_transform3(x)\n",
    "        x , edge_index , edge_attr , batch_index , _ , _ = self.pool3(x , edge_index, None, batch_index)\n",
    "        x3 = torch.cat([gmp(x , batch_index) , gap(x , batch_index)] , dim = 1)\n",
    "        \n",
    "        x = x1 + x2 + x3\n",
    "        \n",
    "        x = self.linear1(x).relu()\n",
    "        x = F.dropout(x , p = 0.5 , training = self.training)\n",
    "        x = self.linear2(x)\n",
    "        \n",
    "        return x\n",
    "\n"
   ]
  },
  {
   "cell_type": "markdown",
   "id": "cacb3d4e-f137-41bf-9c40-801127a9e765",
   "metadata": {},
   "source": [
    "## Model training and evaluation"
   ]
  },
  {
   "cell_type": "code",
   "execution_count": 165,
   "id": "e0092b73",
   "metadata": {},
   "outputs": [
    {
     "data": {
      "text/plain": [
       "GNN(\n",
       "  (conv1): GATConv(9, 1024, heads=3)\n",
       "  (head_transform1): Linear(in_features=3072, out_features=1024, bias=True)\n",
       "  (pool1): TopKPooling(1024, ratio=0.8, multiplier=1.0)\n",
       "  (conv2): GATConv(1024, 1024, heads=3)\n",
       "  (head_transform2): Linear(in_features=3072, out_features=1024, bias=True)\n",
       "  (pool2): TopKPooling(1024, ratio=0.5, multiplier=1.0)\n",
       "  (conv3): GATConv(1024, 1024, heads=3)\n",
       "  (head_transform3): Linear(in_features=3072, out_features=1024, bias=True)\n",
       "  (pool3): TopKPooling(1024, ratio=0.3, multiplier=1.0)\n",
       "  (linear1): Linear(in_features=2048, out_features=1024, bias=True)\n",
       "  (linear2): Linear(in_features=1024, out_features=2, bias=True)\n",
       ")"
      ]
     },
     "execution_count": 165,
     "metadata": {},
     "output_type": "execute_result"
    }
   ],
   "source": [
    "model = GNN(feature_size=train_dataset[0].x.shape[1])\n",
    "model"
   ]
  },
  {
   "cell_type": "code",
   "execution_count": 166,
   "id": "dc026f1a",
   "metadata": {},
   "outputs": [],
   "source": [
    "def calculate_metrics(y_pred, y_true, epoch, phase):\n",
    "    metrics = {}\n",
    "    metrics['confusion_matrix'] = confusion_matrix(y_true, y_pred)\n",
    "    metrics['f1_score'] = f1_score(y_true, y_pred, average='weighted')\n",
    "    metrics['accuracy'] = accuracy_score(y_true, y_pred)\n",
    "    metrics['precision'] = precision_score(y_true, y_pred, average='weighted')\n",
    "    metrics['recall'] = recall_score(y_true, y_pred, average='weighted')\n",
    "\n",
    "    print(f\"\\n{phase.capitalize()} Epoch {epoch} Metrics:\")\n",
    "    print(f\"Confusion Matrix:\\n{metrics['confusion_matrix']}\")\n",
    "    print(f\"F1 Score: {metrics['f1_score']}\")\n",
    "    print(f\"Accuracy: {metrics['accuracy']}\")\n",
    "    print(f\"Precision: {metrics['precision']}\")\n",
    "    print(f\"Recall: {metrics['recall']}\")\n",
    "\n",
    "    return metrics\n"
   ]
  },
  {
   "cell_type": "code",
   "execution_count": 167,
   "id": "e9919952",
   "metadata": {},
   "outputs": [],
   "source": [
    "def train(epoch, model, train_loader, loss_fn, optimizer, scheduler):\n",
    "    model.train()  # Set the model to training mode\n",
    "    all_preds = []\n",
    "    all_labels = []\n",
    "    running_loss = 0.0\n",
    "    \n",
    "    for _, batch in enumerate(tqdm(train_loader)):\n",
    "        optimizer.zero_grad()  # Reset gradients\n",
    "        pred = model(batch.x.float(), batch.edge_index, batch.batch)  # Forward pass\n",
    "        loss = loss_fn(pred, batch.y)  # Calculate loss\n",
    "        loss.backward()  # Backpropagation\n",
    "        optimizer.step()  # Update parameters\n",
    "        running_loss += loss.item()\n",
    "        \n",
    "        all_preds.append(np.argmax(pred.detach().cpu().numpy(), axis=1))\n",
    "        all_labels.append(batch.y.cpu().detach().numpy())\n",
    "    \n",
    "    all_preds = np.concatenate(all_preds).ravel()\n",
    "    all_labels = np.concatenate(all_labels).ravel()\n",
    "    metrics = calculate_metrics(all_preds, all_labels, epoch, \"train\")\n",
    "    scheduler.step()  # Update learning rate\n",
    "    return running_loss, metrics\n",
    "\n",
    "def test(epoch, model, test_loader, loss_fn):\n",
    "    model.eval()  # Set the model to evaluation mode\n",
    "    all_preds = []\n",
    "    all_labels = []\n",
    "    running_loss = 0.0\n",
    "    \n",
    "    with torch.no_grad():\n",
    "        for batch in test_loader:\n",
    "            pred = model(batch.x.float(), batch.edge_index, batch.batch)\n",
    "            loss = loss_fn(pred, batch.y)\n",
    "            running_loss += loss.item()\n",
    "            \n",
    "            all_preds.append(np.argmax(pred.cpu().numpy(), axis=1))\n",
    "            all_labels.append(batch.y.cpu().numpy())\n",
    "    \n",
    "    all_preds = np.concatenate(all_preds).ravel()\n",
    "    all_labels = np.concatenate(all_labels).ravel()\n",
    "    metrics = calculate_metrics(all_preds, all_labels, epoch, \"test\")\n",
    "    return running_loss, metrics\n"
   ]
  },
  {
   "cell_type": "code",
   "execution_count": 168,
   "id": "bfd43773-3616-4e35-8897-c7c27fa96309",
   "metadata": {},
   "outputs": [],
   "source": [
    "weights = torch.tensor([1,10] , dtype = torch.float32)\n",
    "loss_fn = torch.nn.CrossEntropyLoss(weight=weights)\n",
    "optimizer = torch.optim.SGD(model.parameters() , lr = 0.1 , momentum = 0.9)\n",
    "scheduler = torch.optim.lr_scheduler.ExponentialLR(optimizer , gamma = 0.95)"
   ]
  },
  {
   "cell_type": "code",
   "execution_count": 169,
   "id": "3d9c7203-22b4-49a2-9bd4-5637dcf36b5a",
   "metadata": {},
   "outputs": [
    {
     "name": "stderr",
     "output_type": "stream",
     "text": [
      "/home/mpir0002/miniconda3/envs/tf/lib/python3.11/site-packages/torch_geometric/deprecation.py:26: UserWarning: 'data.DataLoader' is deprecated, use 'loader.DataLoader' instead\n",
      "  warnings.warn(out)\n"
     ]
    }
   ],
   "source": [
    "train_loader = DataLoader(train_dataset , batch_size=40 , shuffle=True)\n",
    "test_loader = DataLoader(test_dataset , batch_size = 40 , shuffle=True)"
   ]
  },
  {
   "cell_type": "code",
   "execution_count": 170,
   "id": "a81a64df",
   "metadata": {},
   "outputs": [
    {
     "name": "stderr",
     "output_type": "stream",
     "text": [
      "100%|█████████████████████████████████████████████████████████████████████████████████████| 8/8 [00:02<00:00,  3.38it/s]\n"
     ]
    },
    {
     "name": "stdout",
     "output_type": "stream",
     "text": [
      "\n",
      "Train Epoch 1 Metrics:\n",
      "Confusion Matrix:\n",
      "[[278  13]\n",
      " [  7   2]]\n",
      "F1 Score: 0.9413194444444444\n",
      "Accuracy: 0.9333333333333333\n",
      "Precision: 0.9501754385964911\n",
      "Recall: 0.9333333333333333\n"
     ]
    },
    {
     "name": "stderr",
     "output_type": "stream",
     "text": [
      "/home/mpir0002/miniconda3/envs/tf/lib/python3.11/site-packages/sklearn/metrics/_classification.py:1469: UndefinedMetricWarning: Precision is ill-defined and being set to 0.0 in labels with no predicted samples. Use `zero_division` parameter to control this behavior.\n",
      "  _warn_prf(average, modifier, msg_start, len(result))\n"
     ]
    },
    {
     "name": "stdout",
     "output_type": "stream",
     "text": [
      "\n",
      "Test Epoch 1 Metrics:\n",
      "Confusion Matrix:\n",
      "[[96  0]\n",
      " [ 3  0]]\n",
      "F1 Score: 0.9547785547785548\n",
      "Accuracy: 0.9696969696969697\n",
      "Precision: 0.9403122130394858\n",
      "Recall: 0.9696969696969697\n",
      "Epoch 1, Train Loss: 10.7168, Test Loss: 1.9455\n",
      "Train Metrics: {'confusion_matrix': array([[278,  13],\n",
      "       [  7,   2]]), 'f1_score': 0.9413194444444444, 'accuracy': 0.9333333333333333, 'precision': 0.9501754385964911, 'recall': 0.9333333333333333}\n",
      "Test Metrics: {'confusion_matrix': array([[96,  0],\n",
      "       [ 3,  0]]), 'f1_score': 0.9547785547785548, 'accuracy': 0.9696969696969697, 'precision': 0.9403122130394858, 'recall': 0.9696969696969697}\n"
     ]
    },
    {
     "name": "stderr",
     "output_type": "stream",
     "text": [
      "100%|█████████████████████████████████████████████████████████████████████████████████████| 8/8 [00:01<00:00,  4.25it/s]\n"
     ]
    },
    {
     "name": "stdout",
     "output_type": "stream",
     "text": [
      "\n",
      "Train Epoch 2 Metrics:\n",
      "Confusion Matrix:\n",
      "[[240  51]\n",
      " [  8   1]]\n",
      "F1 Score: 0.8648054989506979\n",
      "Accuracy: 0.8033333333333333\n",
      "Precision: 0.9392866004962779\n",
      "Recall: 0.8033333333333333\n"
     ]
    },
    {
     "name": "stderr",
     "output_type": "stream",
     "text": [
      "/home/mpir0002/miniconda3/envs/tf/lib/python3.11/site-packages/sklearn/metrics/_classification.py:1469: UndefinedMetricWarning: Precision is ill-defined and being set to 0.0 in labels with no predicted samples. Use `zero_division` parameter to control this behavior.\n",
      "  _warn_prf(average, modifier, msg_start, len(result))\n"
     ]
    },
    {
     "name": "stdout",
     "output_type": "stream",
     "text": [
      "\n",
      "Test Epoch 2 Metrics:\n",
      "Confusion Matrix:\n",
      "[[96  0]\n",
      " [ 3  0]]\n",
      "F1 Score: 0.9547785547785548\n",
      "Accuracy: 0.9696969696969697\n",
      "Precision: 0.9403122130394858\n",
      "Recall: 0.9696969696969697\n",
      "Epoch 2, Train Loss: nan, Test Loss: nan\n",
      "Train Metrics: {'confusion_matrix': array([[240,  51],\n",
      "       [  8,   1]]), 'f1_score': 0.8648054989506979, 'accuracy': 0.8033333333333333, 'precision': 0.9392866004962779, 'recall': 0.8033333333333333}\n",
      "Test Metrics: {'confusion_matrix': array([[96,  0],\n",
      "       [ 3,  0]]), 'f1_score': 0.9547785547785548, 'accuracy': 0.9696969696969697, 'precision': 0.9403122130394858, 'recall': 0.9696969696969697}\n"
     ]
    },
    {
     "name": "stderr",
     "output_type": "stream",
     "text": [
      "100%|█████████████████████████████████████████████████████████████████████████████████████| 8/8 [00:01<00:00,  4.51it/s]\n",
      "/home/mpir0002/miniconda3/envs/tf/lib/python3.11/site-packages/sklearn/metrics/_classification.py:1469: UndefinedMetricWarning: Precision is ill-defined and being set to 0.0 in labels with no predicted samples. Use `zero_division` parameter to control this behavior.\n",
      "  _warn_prf(average, modifier, msg_start, len(result))\n"
     ]
    },
    {
     "name": "stdout",
     "output_type": "stream",
     "text": [
      "\n",
      "Train Epoch 3 Metrics:\n",
      "Confusion Matrix:\n",
      "[[291   0]\n",
      " [  9   0]]\n",
      "F1 Score: 0.9552284263959391\n",
      "Accuracy: 0.97\n",
      "Precision: 0.9409\n",
      "Recall: 0.97\n"
     ]
    },
    {
     "name": "stderr",
     "output_type": "stream",
     "text": [
      "/home/mpir0002/miniconda3/envs/tf/lib/python3.11/site-packages/sklearn/metrics/_classification.py:1469: UndefinedMetricWarning: Precision is ill-defined and being set to 0.0 in labels with no predicted samples. Use `zero_division` parameter to control this behavior.\n",
      "  _warn_prf(average, modifier, msg_start, len(result))\n"
     ]
    },
    {
     "name": "stdout",
     "output_type": "stream",
     "text": [
      "\n",
      "Test Epoch 3 Metrics:\n",
      "Confusion Matrix:\n",
      "[[96  0]\n",
      " [ 3  0]]\n",
      "F1 Score: 0.9547785547785548\n",
      "Accuracy: 0.9696969696969697\n",
      "Precision: 0.9403122130394858\n",
      "Recall: 0.9696969696969697\n",
      "Epoch 3, Train Loss: nan, Test Loss: nan\n",
      "Train Metrics: {'confusion_matrix': array([[291,   0],\n",
      "       [  9,   0]]), 'f1_score': 0.9552284263959391, 'accuracy': 0.97, 'precision': 0.9409, 'recall': 0.97}\n",
      "Test Metrics: {'confusion_matrix': array([[96,  0],\n",
      "       [ 3,  0]]), 'f1_score': 0.9547785547785548, 'accuracy': 0.9696969696969697, 'precision': 0.9403122130394858, 'recall': 0.9696969696969697}\n"
     ]
    },
    {
     "name": "stderr",
     "output_type": "stream",
     "text": [
      "100%|█████████████████████████████████████████████████████████████████████████████████████| 8/8 [00:01<00:00,  4.54it/s]\n",
      "/home/mpir0002/miniconda3/envs/tf/lib/python3.11/site-packages/sklearn/metrics/_classification.py:1469: UndefinedMetricWarning: Precision is ill-defined and being set to 0.0 in labels with no predicted samples. Use `zero_division` parameter to control this behavior.\n",
      "  _warn_prf(average, modifier, msg_start, len(result))\n"
     ]
    },
    {
     "name": "stdout",
     "output_type": "stream",
     "text": [
      "\n",
      "Train Epoch 4 Metrics:\n",
      "Confusion Matrix:\n",
      "[[291   0]\n",
      " [  9   0]]\n",
      "F1 Score: 0.9552284263959391\n",
      "Accuracy: 0.97\n",
      "Precision: 0.9409\n",
      "Recall: 0.97\n"
     ]
    },
    {
     "name": "stderr",
     "output_type": "stream",
     "text": [
      "/home/mpir0002/miniconda3/envs/tf/lib/python3.11/site-packages/sklearn/metrics/_classification.py:1469: UndefinedMetricWarning: Precision is ill-defined and being set to 0.0 in labels with no predicted samples. Use `zero_division` parameter to control this behavior.\n",
      "  _warn_prf(average, modifier, msg_start, len(result))\n"
     ]
    },
    {
     "name": "stdout",
     "output_type": "stream",
     "text": [
      "\n",
      "Test Epoch 4 Metrics:\n",
      "Confusion Matrix:\n",
      "[[96  0]\n",
      " [ 3  0]]\n",
      "F1 Score: 0.9547785547785548\n",
      "Accuracy: 0.9696969696969697\n",
      "Precision: 0.9403122130394858\n",
      "Recall: 0.9696969696969697\n",
      "Epoch 4, Train Loss: nan, Test Loss: nan\n",
      "Train Metrics: {'confusion_matrix': array([[291,   0],\n",
      "       [  9,   0]]), 'f1_score': 0.9552284263959391, 'accuracy': 0.97, 'precision': 0.9409, 'recall': 0.97}\n",
      "Test Metrics: {'confusion_matrix': array([[96,  0],\n",
      "       [ 3,  0]]), 'f1_score': 0.9547785547785548, 'accuracy': 0.9696969696969697, 'precision': 0.9403122130394858, 'recall': 0.9696969696969697}\n"
     ]
    },
    {
     "name": "stderr",
     "output_type": "stream",
     "text": [
      "100%|█████████████████████████████████████████████████████████████████████████████████████| 8/8 [00:01<00:00,  4.41it/s]\n",
      "/home/mpir0002/miniconda3/envs/tf/lib/python3.11/site-packages/sklearn/metrics/_classification.py:1469: UndefinedMetricWarning: Precision is ill-defined and being set to 0.0 in labels with no predicted samples. Use `zero_division` parameter to control this behavior.\n",
      "  _warn_prf(average, modifier, msg_start, len(result))\n"
     ]
    },
    {
     "name": "stdout",
     "output_type": "stream",
     "text": [
      "\n",
      "Train Epoch 5 Metrics:\n",
      "Confusion Matrix:\n",
      "[[291   0]\n",
      " [  9   0]]\n",
      "F1 Score: 0.9552284263959391\n",
      "Accuracy: 0.97\n",
      "Precision: 0.9409\n",
      "Recall: 0.97\n"
     ]
    },
    {
     "name": "stderr",
     "output_type": "stream",
     "text": [
      "/home/mpir0002/miniconda3/envs/tf/lib/python3.11/site-packages/sklearn/metrics/_classification.py:1469: UndefinedMetricWarning: Precision is ill-defined and being set to 0.0 in labels with no predicted samples. Use `zero_division` parameter to control this behavior.\n",
      "  _warn_prf(average, modifier, msg_start, len(result))\n"
     ]
    },
    {
     "name": "stdout",
     "output_type": "stream",
     "text": [
      "\n",
      "Test Epoch 5 Metrics:\n",
      "Confusion Matrix:\n",
      "[[96  0]\n",
      " [ 3  0]]\n",
      "F1 Score: 0.9547785547785548\n",
      "Accuracy: 0.9696969696969697\n",
      "Precision: 0.9403122130394858\n",
      "Recall: 0.9696969696969697\n",
      "Epoch 5, Train Loss: nan, Test Loss: nan\n",
      "Train Metrics: {'confusion_matrix': array([[291,   0],\n",
      "       [  9,   0]]), 'f1_score': 0.9552284263959391, 'accuracy': 0.97, 'precision': 0.9409, 'recall': 0.97}\n",
      "Test Metrics: {'confusion_matrix': array([[96,  0],\n",
      "       [ 3,  0]]), 'f1_score': 0.9547785547785548, 'accuracy': 0.9696969696969697, 'precision': 0.9403122130394858, 'recall': 0.9696969696969697}\n"
     ]
    },
    {
     "name": "stderr",
     "output_type": "stream",
     "text": [
      "100%|█████████████████████████████████████████████████████████████████████████████████████| 8/8 [00:01<00:00,  4.56it/s]\n",
      "/home/mpir0002/miniconda3/envs/tf/lib/python3.11/site-packages/sklearn/metrics/_classification.py:1469: UndefinedMetricWarning: Precision is ill-defined and being set to 0.0 in labels with no predicted samples. Use `zero_division` parameter to control this behavior.\n",
      "  _warn_prf(average, modifier, msg_start, len(result))\n"
     ]
    },
    {
     "name": "stdout",
     "output_type": "stream",
     "text": [
      "\n",
      "Train Epoch 6 Metrics:\n",
      "Confusion Matrix:\n",
      "[[291   0]\n",
      " [  9   0]]\n",
      "F1 Score: 0.9552284263959391\n",
      "Accuracy: 0.97\n",
      "Precision: 0.9409\n",
      "Recall: 0.97\n"
     ]
    },
    {
     "name": "stderr",
     "output_type": "stream",
     "text": [
      "/home/mpir0002/miniconda3/envs/tf/lib/python3.11/site-packages/sklearn/metrics/_classification.py:1469: UndefinedMetricWarning: Precision is ill-defined and being set to 0.0 in labels with no predicted samples. Use `zero_division` parameter to control this behavior.\n",
      "  _warn_prf(average, modifier, msg_start, len(result))\n"
     ]
    },
    {
     "name": "stdout",
     "output_type": "stream",
     "text": [
      "\n",
      "Test Epoch 6 Metrics:\n",
      "Confusion Matrix:\n",
      "[[96  0]\n",
      " [ 3  0]]\n",
      "F1 Score: 0.9547785547785548\n",
      "Accuracy: 0.9696969696969697\n",
      "Precision: 0.9403122130394858\n",
      "Recall: 0.9696969696969697\n",
      "Epoch 6, Train Loss: nan, Test Loss: nan\n",
      "Train Metrics: {'confusion_matrix': array([[291,   0],\n",
      "       [  9,   0]]), 'f1_score': 0.9552284263959391, 'accuracy': 0.97, 'precision': 0.9409, 'recall': 0.97}\n",
      "Test Metrics: {'confusion_matrix': array([[96,  0],\n",
      "       [ 3,  0]]), 'f1_score': 0.9547785547785548, 'accuracy': 0.9696969696969697, 'precision': 0.9403122130394858, 'recall': 0.9696969696969697}\n"
     ]
    },
    {
     "name": "stderr",
     "output_type": "stream",
     "text": [
      "100%|█████████████████████████████████████████████████████████████████████████████████████| 8/8 [00:01<00:00,  4.45it/s]\n",
      "/home/mpir0002/miniconda3/envs/tf/lib/python3.11/site-packages/sklearn/metrics/_classification.py:1469: UndefinedMetricWarning: Precision is ill-defined and being set to 0.0 in labels with no predicted samples. Use `zero_division` parameter to control this behavior.\n",
      "  _warn_prf(average, modifier, msg_start, len(result))\n"
     ]
    },
    {
     "name": "stdout",
     "output_type": "stream",
     "text": [
      "\n",
      "Train Epoch 7 Metrics:\n",
      "Confusion Matrix:\n",
      "[[291   0]\n",
      " [  9   0]]\n",
      "F1 Score: 0.9552284263959391\n",
      "Accuracy: 0.97\n",
      "Precision: 0.9409\n",
      "Recall: 0.97\n"
     ]
    },
    {
     "name": "stderr",
     "output_type": "stream",
     "text": [
      "/home/mpir0002/miniconda3/envs/tf/lib/python3.11/site-packages/sklearn/metrics/_classification.py:1469: UndefinedMetricWarning: Precision is ill-defined and being set to 0.0 in labels with no predicted samples. Use `zero_division` parameter to control this behavior.\n",
      "  _warn_prf(average, modifier, msg_start, len(result))\n"
     ]
    },
    {
     "name": "stdout",
     "output_type": "stream",
     "text": [
      "\n",
      "Test Epoch 7 Metrics:\n",
      "Confusion Matrix:\n",
      "[[96  0]\n",
      " [ 3  0]]\n",
      "F1 Score: 0.9547785547785548\n",
      "Accuracy: 0.9696969696969697\n",
      "Precision: 0.9403122130394858\n",
      "Recall: 0.9696969696969697\n",
      "Epoch 7, Train Loss: nan, Test Loss: nan\n",
      "Train Metrics: {'confusion_matrix': array([[291,   0],\n",
      "       [  9,   0]]), 'f1_score': 0.9552284263959391, 'accuracy': 0.97, 'precision': 0.9409, 'recall': 0.97}\n",
      "Test Metrics: {'confusion_matrix': array([[96,  0],\n",
      "       [ 3,  0]]), 'f1_score': 0.9547785547785548, 'accuracy': 0.9696969696969697, 'precision': 0.9403122130394858, 'recall': 0.9696969696969697}\n"
     ]
    },
    {
     "name": "stderr",
     "output_type": "stream",
     "text": [
      "100%|█████████████████████████████████████████████████████████████████████████████████████| 8/8 [00:01<00:00,  4.45it/s]\n",
      "/home/mpir0002/miniconda3/envs/tf/lib/python3.11/site-packages/sklearn/metrics/_classification.py:1469: UndefinedMetricWarning: Precision is ill-defined and being set to 0.0 in labels with no predicted samples. Use `zero_division` parameter to control this behavior.\n",
      "  _warn_prf(average, modifier, msg_start, len(result))\n"
     ]
    },
    {
     "name": "stdout",
     "output_type": "stream",
     "text": [
      "\n",
      "Train Epoch 8 Metrics:\n",
      "Confusion Matrix:\n",
      "[[291   0]\n",
      " [  9   0]]\n",
      "F1 Score: 0.9552284263959391\n",
      "Accuracy: 0.97\n",
      "Precision: 0.9409\n",
      "Recall: 0.97\n"
     ]
    },
    {
     "name": "stderr",
     "output_type": "stream",
     "text": [
      "/home/mpir0002/miniconda3/envs/tf/lib/python3.11/site-packages/sklearn/metrics/_classification.py:1469: UndefinedMetricWarning: Precision is ill-defined and being set to 0.0 in labels with no predicted samples. Use `zero_division` parameter to control this behavior.\n",
      "  _warn_prf(average, modifier, msg_start, len(result))\n"
     ]
    },
    {
     "name": "stdout",
     "output_type": "stream",
     "text": [
      "\n",
      "Test Epoch 8 Metrics:\n",
      "Confusion Matrix:\n",
      "[[96  0]\n",
      " [ 3  0]]\n",
      "F1 Score: 0.9547785547785548\n",
      "Accuracy: 0.9696969696969697\n",
      "Precision: 0.9403122130394858\n",
      "Recall: 0.9696969696969697\n",
      "Epoch 8, Train Loss: nan, Test Loss: nan\n",
      "Train Metrics: {'confusion_matrix': array([[291,   0],\n",
      "       [  9,   0]]), 'f1_score': 0.9552284263959391, 'accuracy': 0.97, 'precision': 0.9409, 'recall': 0.97}\n",
      "Test Metrics: {'confusion_matrix': array([[96,  0],\n",
      "       [ 3,  0]]), 'f1_score': 0.9547785547785548, 'accuracy': 0.9696969696969697, 'precision': 0.9403122130394858, 'recall': 0.9696969696969697}\n"
     ]
    },
    {
     "name": "stderr",
     "output_type": "stream",
     "text": [
      "100%|█████████████████████████████████████████████████████████████████████████████████████| 8/8 [00:01<00:00,  4.52it/s]\n",
      "/home/mpir0002/miniconda3/envs/tf/lib/python3.11/site-packages/sklearn/metrics/_classification.py:1469: UndefinedMetricWarning: Precision is ill-defined and being set to 0.0 in labels with no predicted samples. Use `zero_division` parameter to control this behavior.\n",
      "  _warn_prf(average, modifier, msg_start, len(result))\n"
     ]
    },
    {
     "name": "stdout",
     "output_type": "stream",
     "text": [
      "\n",
      "Train Epoch 9 Metrics:\n",
      "Confusion Matrix:\n",
      "[[291   0]\n",
      " [  9   0]]\n",
      "F1 Score: 0.9552284263959391\n",
      "Accuracy: 0.97\n",
      "Precision: 0.9409\n",
      "Recall: 0.97\n"
     ]
    },
    {
     "name": "stderr",
     "output_type": "stream",
     "text": [
      "/home/mpir0002/miniconda3/envs/tf/lib/python3.11/site-packages/sklearn/metrics/_classification.py:1469: UndefinedMetricWarning: Precision is ill-defined and being set to 0.0 in labels with no predicted samples. Use `zero_division` parameter to control this behavior.\n",
      "  _warn_prf(average, modifier, msg_start, len(result))\n"
     ]
    },
    {
     "name": "stdout",
     "output_type": "stream",
     "text": [
      "\n",
      "Test Epoch 9 Metrics:\n",
      "Confusion Matrix:\n",
      "[[96  0]\n",
      " [ 3  0]]\n",
      "F1 Score: 0.9547785547785548\n",
      "Accuracy: 0.9696969696969697\n",
      "Precision: 0.9403122130394858\n",
      "Recall: 0.9696969696969697\n",
      "Epoch 9, Train Loss: nan, Test Loss: nan\n",
      "Train Metrics: {'confusion_matrix': array([[291,   0],\n",
      "       [  9,   0]]), 'f1_score': 0.9552284263959391, 'accuracy': 0.97, 'precision': 0.9409, 'recall': 0.97}\n",
      "Test Metrics: {'confusion_matrix': array([[96,  0],\n",
      "       [ 3,  0]]), 'f1_score': 0.9547785547785548, 'accuracy': 0.9696969696969697, 'precision': 0.9403122130394858, 'recall': 0.9696969696969697}\n"
     ]
    },
    {
     "name": "stderr",
     "output_type": "stream",
     "text": [
      "100%|█████████████████████████████████████████████████████████████████████████████████████| 8/8 [00:01<00:00,  4.55it/s]\n",
      "/home/mpir0002/miniconda3/envs/tf/lib/python3.11/site-packages/sklearn/metrics/_classification.py:1469: UndefinedMetricWarning: Precision is ill-defined and being set to 0.0 in labels with no predicted samples. Use `zero_division` parameter to control this behavior.\n",
      "  _warn_prf(average, modifier, msg_start, len(result))\n"
     ]
    },
    {
     "name": "stdout",
     "output_type": "stream",
     "text": [
      "\n",
      "Train Epoch 10 Metrics:\n",
      "Confusion Matrix:\n",
      "[[291   0]\n",
      " [  9   0]]\n",
      "F1 Score: 0.9552284263959391\n",
      "Accuracy: 0.97\n",
      "Precision: 0.9409\n",
      "Recall: 0.97\n",
      "\n",
      "Test Epoch 10 Metrics:\n",
      "Confusion Matrix:\n",
      "[[96  0]\n",
      " [ 3  0]]\n",
      "F1 Score: 0.9547785547785548\n",
      "Accuracy: 0.9696969696969697\n",
      "Precision: 0.9403122130394858\n",
      "Recall: 0.9696969696969697\n",
      "Epoch 10, Train Loss: nan, Test Loss: nan\n",
      "Train Metrics: {'confusion_matrix': array([[291,   0],\n",
      "       [  9,   0]]), 'f1_score': 0.9552284263959391, 'accuracy': 0.97, 'precision': 0.9409, 'recall': 0.97}\n",
      "Test Metrics: {'confusion_matrix': array([[96,  0],\n",
      "       [ 3,  0]]), 'f1_score': 0.9547785547785548, 'accuracy': 0.9696969696969697, 'precision': 0.9403122130394858, 'recall': 0.9696969696969697}\n"
     ]
    },
    {
     "name": "stderr",
     "output_type": "stream",
     "text": [
      "/home/mpir0002/miniconda3/envs/tf/lib/python3.11/site-packages/sklearn/metrics/_classification.py:1469: UndefinedMetricWarning: Precision is ill-defined and being set to 0.0 in labels with no predicted samples. Use `zero_division` parameter to control this behavior.\n",
      "  _warn_prf(average, modifier, msg_start, len(result))\n"
     ]
    }
   ],
   "source": [
    "\n",
    "for epoch in range(1, 11): \n",
    "    train_loss, train_metrics = train(epoch, model, train_loader, loss_fn, optimizer, scheduler)\n",
    "    test_loss, test_metrics = test(epoch, model, test_loader, loss_fn)\n",
    "    print(f\"Epoch {epoch}, Train Loss: {train_loss:.4f}, Test Loss: {test_loss:.4f}\")\n",
    "    print(f\"Train Metrics: {train_metrics}\")\n",
    "    print(f\"Test Metrics: {test_metrics}\")\n"
   ]
  },
  {
   "cell_type": "code",
   "execution_count": 151,
   "id": "333bc44e",
   "metadata": {},
   "outputs": [],
   "source": [
    "# import torch.optim as optim\n",
    "\n",
    "# loss_fn = torch.nn.CrossEntropyLoss()\n",
    "\n",
    "# optimizer = optim.Adam(model.parameters(), lr=0.001)\n",
    "\n",
    "\n",
    "# def train(epoch, model, train_loader, loss_fn):\n",
    "#     model.train()\n",
    "#     running_loss = 0.0\n",
    "#     for step, batch in enumerate(train_loader):\n",
    "#         optimizer.zero_grad()\n",
    "\n",
    "#         # Forward pass\n",
    "#         pred = model(batch.x.float(), batch.edge_index, batch.batch)\n",
    "        \n",
    "#         # Calculate the loss\n",
    "#         loss = loss_fn(pred, batch.y)\n",
    "\n",
    "#         # Backward pass\n",
    "#         loss.backward()\n",
    "\n",
    "#         # Update parameters\n",
    "#         optimizer.step()\n",
    "\n",
    "#         running_loss += loss.item()\n",
    "\n",
    "#     # Print or log the training loss\n",
    "#     print(f\"Epoch {epoch}, Loss: {running_loss / len(train_loader)}\")\n",
    "\n",
    "# # Example usage:\n",
    "# num_epochs = 10\n",
    "# for epoch in range(1, num_epochs + 1):\n",
    "#     train(epoch, model, train_dataset, loss_fn)\n"
   ]
  },
  {
   "cell_type": "code",
   "execution_count": null,
   "id": "2ebb2b2e",
   "metadata": {},
   "outputs": [],
   "source": []
  },
  {
   "cell_type": "code",
   "execution_count": null,
   "id": "aaddf8e0",
   "metadata": {},
   "outputs": [],
   "source": []
  },
  {
   "cell_type": "code",
   "execution_count": null,
   "id": "a2ce7140",
   "metadata": {},
   "outputs": [],
   "source": []
  }
 ],
 "metadata": {
  "kernelspec": {
   "display_name": "Python 3 (ipykernel)",
   "language": "python",
   "name": "python3"
  },
  "language_info": {
   "codemirror_mode": {
    "name": "ipython",
    "version": 3
   },
   "file_extension": ".py",
   "mimetype": "text/x-python",
   "name": "python",
   "nbconvert_exporter": "python",
   "pygments_lexer": "ipython3",
   "version": "3.11.4"
  }
 },
 "nbformat": 4,
 "nbformat_minor": 5
}
